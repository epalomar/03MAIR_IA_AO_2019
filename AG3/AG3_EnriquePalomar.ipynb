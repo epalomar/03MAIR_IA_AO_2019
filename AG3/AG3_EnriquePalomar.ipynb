{
  "nbformat": 4,
  "nbformat_minor": 0,
  "metadata": {
    "colab": {
      "name": "AG3-EnriquePalomar.ipynb",
      "provenance": [],
      "collapsed_sections": [],
      "authorship_tag": "ABX9TyPAgDerPbkWZ2QhBLKXyB2o",
      "include_colab_link": true
    },
    "kernelspec": {
      "name": "python3",
      "display_name": "Python 3"
    }
  },
  "cells": [
    {
      "cell_type": "markdown",
      "metadata": {
        "id": "view-in-github",
        "colab_type": "text"
      },
      "source": [
        "<a href=\"https://colab.research.google.com/github/epalomar/03MAIR_IA_AO_2019/blob/master/AG3/AG3_EnriquePalomar.ipynb\" target=\"_parent\"><img src=\"https://colab.research.google.com/assets/colab-badge.svg\" alt=\"Open In Colab\"/></a>"
      ]
    },
    {
      "cell_type": "markdown",
      "metadata": {
        "id": "rxhzort6PyJ7",
        "colab_type": "text"
      },
      "source": [
        "Actividad guiada 3 - AG3 <BR>\n",
        "Enrique Palomar <BR>\n",
        "link : https://colab.research.google.com/drive/1Eg6f9Pg26wZ3i8WiojXA4NoWY8DMb4LK\n"
      ]
    },
    {
      "cell_type": "code",
      "metadata": {
        "id": "W1sxe7TRRBDx",
        "colab_type": "code",
        "colab": {
          "base_uri": "https://localhost:8080/",
          "height": 34
        },
        "outputId": "cc82003e-9d1b-4875-a5a5-8053386693f6"
      },
      "source": [
        "import urllib.request\n",
        "\n",
        "file = \"swiss42.tsp\"\n",
        "\n",
        "urllib.request.urlretrieve(\"http://elib.zib.de/pub/mp-testdata/tsp/tsplib/tsp/swiss42.tsp\", file)\n",
        "\n"
      ],
      "execution_count": 1,
      "outputs": [
        {
          "output_type": "execute_result",
          "data": {
            "text/plain": [
              "('swiss42.tsp', <http.client.HTTPMessage at 0x7f1304467ba8>)"
            ]
          },
          "metadata": {
            "tags": []
          },
          "execution_count": 1
        }
      ]
    },
    {
      "cell_type": "code",
      "metadata": {
        "id": "2RETvqTGR1CJ",
        "colab_type": "code",
        "colab": {
          "base_uri": "https://localhost:8080/",
          "height": 136
        },
        "outputId": "4cbd6d26-f581-42ce-b21f-a043225dc35f"
      },
      "source": [
        "!pip install tsplib95"
      ],
      "execution_count": 2,
      "outputs": [
        {
          "output_type": "stream",
          "text": [
            "Collecting tsplib95\n",
            "  Downloading https://files.pythonhosted.org/packages/dc/43/039c0621085202f19d6c12b06330bf109743083ce4024137b4713da9c40b/tsplib95-0.6.1-py2.py3-none-any.whl\n",
            "Requirement already satisfied: networkx~=2.1 in /usr/local/lib/python3.6/dist-packages (from tsplib95) (2.4)\n",
            "Requirement already satisfied: Click>=6.0 in /usr/local/lib/python3.6/dist-packages (from tsplib95) (7.0)\n",
            "Requirement already satisfied: decorator>=4.3.0 in /usr/local/lib/python3.6/dist-packages (from networkx~=2.1->tsplib95) (4.4.1)\n",
            "Installing collected packages: tsplib95\n",
            "Successfully installed tsplib95-0.6.1\n"
          ],
          "name": "stdout"
        }
      ]
    },
    {
      "cell_type": "code",
      "metadata": {
        "id": "zz5JTzOMR-D3",
        "colab_type": "code",
        "colab": {}
      },
      "source": [
        "import tsplib95\n",
        "import random\n",
        "import math"
      ],
      "execution_count": 0,
      "outputs": []
    },
    {
      "cell_type": "code",
      "metadata": {
        "id": "wF7Ex-z1STAQ",
        "colab_type": "code",
        "colab": {}
      },
      "source": [
        "problem = tsplib95.load_problem(file)"
      ],
      "execution_count": 0,
      "outputs": []
    },
    {
      "cell_type": "code",
      "metadata": {
        "id": "uU82YCj7U6Z9",
        "colab_type": "code",
        "colab": {}
      },
      "source": [
        "#nodos\n",
        "Nodos = list(problem.get_nodes())\n",
        "\n",
        "#aristas\n",
        "Aristas = list(problem.get_edges())"
      ],
      "execution_count": 0,
      "outputs": []
    },
    {
      "cell_type": "code",
      "metadata": {
        "id": "WtVLxaN9TIdF",
        "colab_type": "code",
        "colab": {
          "base_uri": "https://localhost:8080/",
          "height": 34
        },
        "outputId": "175f7134-ae2d-4fc2-83d4-af8cd2c43bc9"
      },
      "source": [
        "#Se genera una solucion aleatoria con comienzo en en el nodo 0\n",
        "def crear_solucion(Nodos): \n",
        "  solucion = [0]\n",
        "  for i in range(len(Nodos)-1):\n",
        "    solucion = solucion + [random.choice(list(set(Nodos) - set(solucion)))]\n",
        "  return solucion  \n",
        "\n",
        "#Devuelve la distancia entre dos nodos\n",
        "def distancia(a,b, problem):\n",
        "  return problem.wfunc(a,b)\n",
        "\n",
        "#Devuelve la distancia total de una trayectoria\n",
        "def distancia_total(solucion, problem):\n",
        "  distancia_total = 0\n",
        "  for i in range(len(solucion)-1):\n",
        "    distancia_total += distancia(solucion[i] ,solucion[i+1] ,  problem)\n",
        "  return distancia_total + distancia(solucion[len(solucion)-1] ,solucion[0], problem)\n",
        "\n",
        "#Busqueda aleatorio\n",
        "def busqueda_aleatoria(problem, N):\n",
        "  mejor_solucion = crear_solucion(Nodos)\n",
        "  mejor_valor    = distancia_total(mejor_solucion, problem)\n",
        "\n",
        "  for i in range(N):\n",
        "      solucion = crear_solucion(Nodos)\n",
        "      valor    = distancia_total(solucion, problem)\n",
        "      if valor < mejor_valor:\n",
        "        mejor_solucion = solucion\n",
        "        mejor_valor = valor\n",
        "\n",
        "  print(\"La mejor solucion es \",mejor_valor,  mejor_solucion)\n",
        "   \n",
        "busqueda_aleatoria(problem, 90000)\n",
        "\n"
      ],
      "execution_count": 15,
      "outputs": [
        {
          "output_type": "stream",
          "text": [
            "La mejor solucion es  3387 [0, 7, 17, 15, 32, 30, 38, 41, 11, 25, 26, 10, 18, 31, 1, 19, 14, 2, 37, 35, 36, 16, 29, 33, 24, 9, 40, 39, 21, 23, 6, 27, 4, 22, 3, 28, 34, 13, 5, 12, 8, 20]\n"
          ],
          "name": "stdout"
        }
      ]
    },
    {
      "cell_type": "code",
      "metadata": {
        "id": "GQsaA7OPbTpY",
        "colab_type": "code",
        "colab": {
          "base_uri": "https://localhost:8080/",
          "height": 51
        },
        "outputId": "63674e54-0778-4894-d917-ec06c233bfea"
      },
      "source": [
        "def genera_vecina(solucion):\n",
        "  #Generador de soluciones vecinas: 2-opt (intercambiar 2 nodos) Si hay N nodos se generan (N-1)x(N-2)/2 soluciones\n",
        "  #print(solucion)\n",
        "  mejor_solucion = []\n",
        "  mejor_distancia = 10e100\n",
        "  for i in range(1,len(solucion)-1):\n",
        "    for j in range(i+1, len(solucion)):\n",
        "      vecina = solucion[:i] + [solucion[j]] + solucion[i+1:j] + [solucion[i]] + solucion[j+1:] \n",
        "      distancia_vecina = distancia_total(vecina, problem)\n",
        "      if distancia_vecina <= mejor_distancia:\n",
        "        mejor_distancia = distancia_vecina\n",
        "        mejor_solucion = vecina\n",
        "  return mejor_solucion\n",
        "      \n",
        "solucion = crear_solucion(Nodos)\n",
        "mejor_solucion = genera_vecina(solucion)\n",
        "\n",
        "print(mejor_solucion)\n",
        "print(solucion)\n"
      ],
      "execution_count": 26,
      "outputs": [
        {
          "output_type": "stream",
          "text": [
            "[0, 14, 23, 22, 17, 15, 35, 26, 16, 20, 6, 38, 3, 10, 30, 8, 32, 21, 1, 12, 40, 9, 24, 19, 27, 39, 13, 25, 37, 29, 11, 34, 41, 5, 28, 4, 33, 31, 18, 7, 2, 36]\n",
            "[0, 14, 23, 22, 17, 9, 35, 26, 16, 20, 6, 38, 3, 10, 30, 8, 32, 21, 1, 12, 40, 15, 24, 19, 27, 39, 13, 25, 37, 29, 11, 34, 41, 5, 28, 4, 33, 31, 18, 7, 2, 36]\n"
          ],
          "name": "stdout"
        }
      ]
    },
    {
      "cell_type": "code",
      "metadata": {
        "id": "KjUPSEn8bfJC",
        "colab_type": "code",
        "colab": {
          "base_uri": "https://localhost:8080/",
          "height": 34
        },
        "outputId": "6ba5eb19-6ba0-4e70-b626-972149dd9da6"
      },
      "source": [
        "\n",
        "def busqueda_local(problem, N):\n",
        "  #problem = datos del problema\n",
        "  #N = numero de iteraciones\n",
        "  \n",
        "  mejor_solucion = []\n",
        "  mejor_distancia = 10e100\n",
        "  \n",
        "  solucion_referencia = crear_solucion(Nodos)\n",
        "  \n",
        "  for i in range(N):\n",
        "    vecina = genera_vecina(solucion_referencia)\n",
        "    distancia_vecina = distancia_total(vecina, problem)\n",
        "    if distancia_vecina <= mejor_distancia:\n",
        "      mejor_solucion = vecina\n",
        "      mejor_distancia = distancia_vecina\n",
        "        \n",
        "    solucion_referencia = vecina\n",
        "\n",
        "  print(\"La mejor solución es :\", mejor_distancia,mejor_solucion)\n",
        "\n",
        "busqueda_local(problem,400)"
      ],
      "execution_count": 31,
      "outputs": [
        {
          "output_type": "stream",
          "text": [
            "La mejor solución es : 1704 [0, 7, 1, 6, 26, 18, 12, 10, 8, 9, 21, 40, 24, 39, 32, 34, 20, 33, 38, 22, 30, 28, 2, 27, 3, 4, 5, 13, 19, 14, 16, 15, 37, 36, 35, 31, 17, 11, 25, 41, 23, 29]\n"
          ],
          "name": "stdout"
        }
      ]
    },
    {
      "cell_type": "code",
      "metadata": {
        "id": "WfsL5al8hvOD",
        "colab_type": "code",
        "colab": {
          "base_uri": "https://localhost:8080/",
          "height": 51
        },
        "outputId": "a7b92eea-8b56-4e44-8458-39e1db56da14"
      },
      "source": [
        "def genera_vecina_aleatorio(solucion):\n",
        "  #Generador de 1 solucion vecina 2-opt (intercambiar 2 nodos)\n",
        "  #Se puede mejorar haciendo que la elección no se uniforme sino entre las que estén más proximas\n",
        "  i = random.choice(range(1, len(solucion)) )\n",
        "  j = random.choice(list(set(range(1, len(solucion))) - {i}))\n",
        "  if j<i:\n",
        "    i,j=j,i\n",
        "  vecina = list(solucion[:i] + [solucion[j]] + solucion[i+1:j] + [solucion[i]] + solucion[j+1:])\n",
        "  return vecina\n",
        "\n",
        "solucion = crear_solucion(Nodos)\n",
        "print(solucion,\"\\n\",genera_vecina_aleatorio(genera_vecina_aleatorio(solucion)))\n",
        "\n",
        "\n"
      ],
      "execution_count": 35,
      "outputs": [
        {
          "output_type": "stream",
          "text": [
            "[0, 1, 5, 29, 40, 12, 9, 19, 23, 17, 13, 39, 22, 10, 2, 15, 33, 16, 8, 38, 4, 11, 18, 25, 3, 32, 35, 14, 28, 6, 37, 21, 27, 36, 20, 24, 7, 31, 30, 26, 34, 41] \n",
            " [0, 1, 5, 29, 40, 28, 9, 19, 23, 13, 17, 39, 22, 10, 2, 15, 33, 16, 8, 38, 4, 11, 18, 25, 3, 32, 35, 14, 12, 6, 37, 21, 27, 36, 20, 24, 7, 31, 30, 26, 34, 41]\n"
          ],
          "name": "stdout"
        }
      ]
    },
    {
      "cell_type": "code",
      "metadata": {
        "id": "ZojretNFkb_D",
        "colab_type": "code",
        "colab": {}
      },
      "source": [
        "#Funcion de probabilidad para determinar si se cambia \n",
        "#    a una solución peor respecto a la de referencia(exponencial)\n",
        "def probabilidad(T,d):\n",
        "  if random.random() <= math.exp(-1*d / T)   :\n",
        "    return True\n",
        "  else:\n",
        "    return False\n",
        "\n",
        "\n",
        "def bajar_temperatura(T):\n",
        "  return T*.9999"
      ],
      "execution_count": 0,
      "outputs": []
    },
    {
      "cell_type": "code",
      "metadata": {
        "id": "kDaPc08zkhrC",
        "colab_type": "code",
        "colab": {
          "base_uri": "https://localhost:8080/",
          "height": 1000
        },
        "outputId": "e81053d3-901c-44d8-c1ff-42773b777e4c"
      },
      "source": [
        "def recocido_simulado(problem, TEMPERATURA=1000):\n",
        "  #problem = datos del problema\n",
        "\n",
        "  solucion_referencia = crear_solucion(Nodos)\n",
        "  distancia_referencia = distancia_total(solucion_referencia, problem)\n",
        "  \n",
        "  mejor_solucion = []\n",
        "  mejor_distancia = 10e100\n",
        "  while TEMPERATURA > 1:\n",
        "    #Genera una solución vecina(aleatoria)\n",
        "    vecina = genera_vecina_aleatorio(solucion_referencia) \n",
        "    \n",
        "    #Calcula su valor(distancia)\n",
        "    distancia_vecina = distancia_total(vecina, problem)\n",
        "    \n",
        "    #Si es la mejor solución de todas se guarda\n",
        "    if distancia_vecina < mejor_distancia:\n",
        "      mejor_solucion = vecina\n",
        "      mejor_distancia = distancia_vecina\n",
        "      print('\\t****Encontrada mejor solucion:', mejor_distancia , mejor_solucion, '\\n')\n",
        "    \n",
        "    #Si la nueva vecina es mejor se cambia y si es peor se cambia según \n",
        "    # una probabilidad dependiente de T y de |distancia_referencia - distancia_vecina|\n",
        "    p = probabilidad(TEMPERATURA, abs(distancia_referencia - distancia_vecina) )\n",
        "    if distancia_vecina < distancia_referencia or p :\n",
        "      solucion_referencia = vecina\n",
        "      distancia_referencia = distancia_vecina\n",
        "    \n",
        "    TEMPERATURA = bajar_temperatura(TEMPERATURA)\n",
        "\n",
        "  print(\"La mejor solución encontrada es :\" , mejor_distancia, mejor_solucion  )\n",
        "  return mejor_solucion\n",
        "\n",
        "sol = recocido_simulado(problem, TEMPERATURA=100000)\n",
        "\n"
      ],
      "execution_count": 38,
      "outputs": [
        {
          "output_type": "stream",
          "text": [
            "\t****Encontrada mejor solucion: 4538 [0, 26, 39, 10, 8, 22, 25, 13, 15, 18, 19, 14, 30, 35, 34, 38, 11, 24, 9, 28, 29, 33, 12, 40, 31, 5, 4, 41, 16, 20, 23, 1, 17, 32, 27, 2, 36, 3, 7, 37, 6, 21] \n",
            "\n",
            "\t****Encontrada mejor solucion: 4537 [0, 26, 39, 10, 8, 22, 25, 14, 15, 18, 19, 13, 30, 35, 34, 38, 11, 24, 9, 28, 29, 33, 12, 40, 31, 5, 4, 7, 16, 20, 23, 1, 21, 32, 27, 2, 36, 3, 41, 37, 6, 17] \n",
            "\n",
            "\t****Encontrada mejor solucion: 4534 [0, 6, 31, 34, 24, 15, 37, 3, 27, 36, 29, 41, 32, 22, 30, 18, 28, 20, 40, 26, 33, 7, 11, 19, 25, 14, 4, 10, 1, 17, 35, 16, 23, 39, 21, 2, 12, 9, 5, 13, 8, 38] \n",
            "\n",
            "\t****Encontrada mejor solucion: 4469 [0, 28, 31, 26, 24, 7, 37, 3, 27, 36, 29, 41, 9, 22, 30, 13, 6, 20, 40, 34, 33, 15, 11, 19, 25, 18, 4, 35, 1, 17, 10, 16, 23, 39, 21, 8, 12, 32, 5, 14, 2, 38] \n",
            "\n",
            "\t****Encontrada mejor solucion: 4385 [0, 37, 7, 26, 23, 20, 35, 9, 21, 2, 13, 19, 10, 6, 16, 1, 32, 4, 27, 31, 24, 40, 5, 8, 41, 30, 39, 29, 12, 28, 11, 34, 25, 15, 14, 3, 17, 18, 22, 36, 38, 33] \n",
            "\n",
            "\t****Encontrada mejor solucion: 4380 [0, 37, 7, 26, 23, 20, 35, 9, 21, 2, 13, 19, 10, 6, 16, 1, 32, 4, 18, 31, 24, 40, 5, 8, 41, 30, 39, 29, 12, 28, 11, 34, 25, 15, 14, 3, 17, 27, 22, 36, 38, 33] \n",
            "\n",
            "\t****Encontrada mejor solucion: 4377 [0, 37, 15, 34, 30, 16, 2, 11, 18, 1, 31, 14, 28, 23, 38, 24, 35, 4, 6, 25, 27, 21, 22, 41, 10, 5, 8, 33, 39, 40, 7, 9, 36, 32, 20, 3, 26, 29, 13, 12, 19, 17] \n",
            "\n",
            "\t****Encontrada mejor solucion: 4269 [0, 37, 15, 34, 30, 3, 2, 11, 18, 1, 31, 14, 28, 23, 38, 24, 35, 4, 6, 25, 27, 21, 22, 41, 10, 5, 8, 33, 39, 40, 7, 9, 36, 32, 20, 16, 26, 29, 13, 12, 19, 17] \n",
            "\n",
            "\t****Encontrada mejor solucion: 4010 [0, 37, 15, 34, 30, 3, 2, 11, 18, 1, 31, 14, 28, 23, 38, 24, 8, 4, 6, 25, 27, 21, 22, 41, 10, 5, 35, 33, 39, 40, 7, 9, 36, 32, 20, 16, 26, 29, 13, 12, 19, 17] \n",
            "\n",
            "\t****Encontrada mejor solucion: 3883 [0, 4, 14, 33, 26, 3, 6, 16, 13, 1, 12, 28, 30, 20, 29, 22, 34, 5, 2, 31, 38, 23, 11, 41, 9, 37, 15, 17, 27, 40, 39, 24, 7, 19, 21, 18, 10, 8, 25, 35, 36, 32] \n",
            "\n",
            "\t****Encontrada mejor solucion: 3834 [0, 26, 38, 39, 3, 31, 7, 17, 5, 14, 2, 33, 34, 28, 19, 41, 10, 22, 32, 30, 8, 21, 25, 16, 1, 20, 4, 37, 15, 6, 29, 9, 27, 35, 11, 40, 24, 23, 12, 18, 13, 36] \n",
            "\n",
            "\t****Encontrada mejor solucion: 3759 [0, 20, 36, 9, 28, 2, 4, 14, 11, 12, 34, 33, 35, 31, 32, 19, 5, 25, 22, 40, 24, 13, 15, 27, 18, 38, 23, 30, 3, 8, 10, 41, 39, 17, 26, 1, 16, 37, 6, 7, 29, 21] \n",
            "\n",
            "\t****Encontrada mejor solucion: 3714 [0, 39, 8, 40, 23, 41, 5, 25, 19, 11, 14, 15, 36, 35, 34, 20, 37, 4, 38, 32, 9, 2, 3, 10, 21, 16, 13, 17, 33, 30, 26, 29, 18, 12, 28, 31, 7, 6, 27, 1, 24, 22] \n",
            "\n",
            "\t****Encontrada mejor solucion: 3667 [0, 35, 27, 4, 29, 41, 11, 1, 14, 37, 28, 21, 38, 7, 19, 12, 10, 8, 39, 13, 25, 3, 2, 9, 23, 6, 34, 36, 31, 22, 40, 24, 32, 30, 5, 15, 16, 18, 33, 20, 17, 26] \n",
            "\n",
            "\t****Encontrada mejor solucion: 3663 [0, 1, 17, 31, 11, 22, 32, 5, 41, 10, 23, 39, 7, 36, 37, 2, 6, 33, 34, 25, 38, 20, 35, 4, 27, 9, 8, 29, 26, 16, 19, 15, 13, 3, 18, 28, 14, 12, 30, 24, 21, 40] \n",
            "\n",
            "\t****Encontrada mejor solucion: 3640 [0, 30, 29, 39, 24, 40, 18, 26, 32, 10, 36, 20, 6, 27, 5, 23, 3, 34, 4, 28, 14, 12, 37, 7, 13, 16, 31, 19, 15, 17, 1, 41, 25, 8, 9, 21, 11, 38, 22, 2, 33, 35] \n",
            "\n",
            "\t****Encontrada mejor solucion: 3624 [0, 1, 37, 33, 34, 38, 3, 2, 22, 39, 21, 40, 9, 8, 13, 25, 11, 23, 36, 10, 12, 29, 32, 18, 27, 20, 31, 16, 26, 7, 30, 28, 24, 15, 19, 4, 6, 14, 5, 41, 35, 17] \n",
            "\n",
            "\t****Encontrada mejor solucion: 3576 [0, 1, 37, 33, 34, 38, 3, 2, 22, 39, 21, 40, 9, 8, 13, 25, 11, 23, 36, 10, 12, 29, 32, 18, 27, 20, 31, 16, 19, 7, 30, 28, 24, 15, 26, 4, 6, 14, 5, 41, 35, 17] \n",
            "\n",
            "\t****Encontrada mejor solucion: 3269 [0, 1, 37, 33, 34, 38, 3, 2, 22, 39, 21, 40, 9, 8, 13, 25, 11, 23, 36, 10, 12, 29, 32, 18, 27, 20, 31, 16, 19, 7, 30, 28, 24, 41, 26, 4, 6, 14, 5, 15, 35, 17] \n",
            "\n",
            "\t****Encontrada mejor solucion: 3257 [0, 1, 37, 4, 26, 12, 41, 25, 23, 40, 10, 9, 15, 16, 36, 35, 19, 22, 38, 34, 33, 29, 24, 21, 7, 8, 5, 17, 31, 20, 14, 30, 39, 28, 2, 27, 32, 18, 11, 13, 3, 6] \n",
            "\n",
            "\t****Encontrada mejor solucion: 3190 [0, 1, 37, 4, 26, 12, 41, 25, 23, 40, 10, 9, 15, 16, 36, 35, 19, 22, 38, 34, 33, 29, 24, 21, 11, 8, 5, 17, 31, 20, 14, 30, 39, 28, 2, 27, 32, 18, 7, 13, 3, 6] \n",
            "\n",
            "\t****Encontrada mejor solucion: 3180 [0, 1, 37, 4, 26, 12, 41, 25, 23, 40, 10, 9, 15, 16, 36, 35, 19, 22, 38, 34, 14, 29, 24, 21, 11, 8, 5, 17, 31, 20, 33, 30, 39, 28, 2, 27, 32, 18, 7, 13, 3, 6] \n",
            "\n",
            "\t****Encontrada mejor solucion: 3122 [0, 1, 37, 4, 26, 12, 41, 25, 10, 40, 23, 9, 15, 16, 36, 35, 19, 22, 38, 34, 14, 29, 24, 21, 11, 8, 5, 17, 31, 20, 33, 30, 39, 28, 2, 27, 32, 18, 7, 13, 3, 6] \n",
            "\n",
            "\t****Encontrada mejor solucion: 3094 [0, 1, 14, 4, 26, 12, 41, 25, 10, 40, 23, 9, 15, 16, 36, 35, 19, 22, 38, 34, 37, 29, 24, 21, 11, 8, 5, 17, 31, 20, 33, 30, 39, 28, 2, 27, 32, 18, 7, 13, 3, 6] \n",
            "\n",
            "\t****Encontrada mejor solucion: 3023 [0, 1, 7, 4, 26, 12, 41, 25, 10, 40, 23, 9, 15, 16, 36, 35, 19, 22, 38, 34, 37, 29, 24, 21, 11, 8, 5, 17, 31, 20, 33, 30, 39, 28, 2, 27, 32, 18, 14, 13, 3, 6] \n",
            "\n",
            "\t****Encontrada mejor solucion: 2959 [0, 28, 8, 7, 36, 35, 27, 29, 41, 21, 39, 23, 12, 11, 9, 26, 34, 33, 31, 4, 3, 14, 13, 19, 15, 37, 17, 5, 25, 18, 16, 6, 2, 40, 24, 22, 38, 20, 32, 30, 1, 10] \n",
            "\n",
            "\t****Encontrada mejor solucion: 2951 [0, 28, 26, 7, 36, 35, 9, 29, 41, 21, 39, 23, 12, 11, 27, 8, 34, 33, 31, 4, 3, 14, 13, 19, 15, 37, 17, 5, 25, 18, 16, 6, 2, 40, 24, 22, 38, 20, 32, 30, 1, 10] \n",
            "\n",
            "\t****Encontrada mejor solucion: 2945 [0, 1, 37, 36, 17, 31, 27, 26, 21, 39, 40, 11, 10, 9, 6, 5, 32, 20, 33, 34, 13, 19, 7, 12, 41, 22, 38, 24, 30, 29, 3, 14, 35, 16, 15, 25, 8, 23, 18, 28, 2, 4] \n",
            "\n",
            "\t****Encontrada mejor solucion: 2942 [0, 14, 37, 36, 17, 32, 7, 8, 21, 39, 40, 11, 41, 9, 2, 5, 1, 20, 33, 34, 19, 13, 6, 12, 25, 22, 38, 24, 30, 29, 3, 31, 35, 16, 15, 10, 26, 23, 18, 28, 27, 4] \n",
            "\n",
            "\t****Encontrada mejor solucion: 2922 [0, 14, 37, 36, 17, 32, 2, 8, 21, 39, 40, 11, 41, 9, 7, 5, 1, 20, 33, 34, 19, 13, 6, 12, 25, 22, 38, 24, 30, 29, 3, 31, 35, 16, 15, 10, 26, 23, 18, 28, 27, 4] \n",
            "\n",
            "\t****Encontrada mejor solucion: 2728 [0, 19, 10, 41, 23, 21, 24, 28, 26, 2, 38, 22, 39, 40, 9, 27, 32, 5, 15, 16, 14, 17, 34, 20, 6, 7, 1, 37, 36, 35, 33, 30, 4, 25, 18, 12, 11, 13, 31, 8, 29, 3] \n",
            "\n",
            "\t****Encontrada mejor solucion: 2704 [0, 1, 6, 11, 13, 18, 23, 9, 28, 30, 29, 4, 27, 26, 3, 2, 12, 5, 20, 33, 32, 37, 17, 7, 14, 34, 38, 22, 39, 25, 24, 21, 10, 40, 41, 8, 19, 16, 15, 31, 35, 36] \n",
            "\n",
            "\t****Encontrada mejor solucion: 2662 [0, 1, 6, 11, 13, 12, 23, 9, 28, 30, 29, 4, 27, 26, 3, 2, 18, 5, 20, 33, 32, 37, 17, 7, 14, 34, 38, 22, 39, 25, 24, 21, 10, 40, 41, 8, 19, 16, 15, 31, 35, 36] \n",
            "\n",
            "\t****Encontrada mejor solucion: 2661 [0, 6, 5, 26, 13, 12, 11, 29, 28, 4, 23, 30, 3, 1, 27, 18, 2, 9, 32, 35, 20, 37, 17, 7, 14, 34, 38, 22, 39, 40, 24, 21, 10, 25, 41, 8, 19, 16, 15, 31, 33, 36] \n",
            "\n",
            "\t****Encontrada mejor solucion: 2630 [0, 6, 5, 26, 13, 12, 11, 29, 28, 4, 23, 30, 3, 1, 9, 18, 2, 27, 32, 35, 20, 37, 17, 7, 14, 34, 38, 22, 39, 40, 24, 21, 10, 25, 41, 8, 19, 16, 15, 31, 33, 36] \n",
            "\n",
            "\t****Encontrada mejor solucion: 2624 [0, 6, 26, 5, 13, 12, 11, 29, 28, 4, 23, 30, 3, 1, 9, 18, 2, 27, 32, 35, 20, 37, 17, 7, 14, 34, 38, 22, 39, 40, 24, 21, 10, 25, 41, 8, 19, 16, 15, 31, 33, 36] \n",
            "\n",
            "\t****Encontrada mejor solucion: 2548 [0, 6, 26, 5, 13, 12, 11, 29, 28, 4, 23, 30, 3, 1, 9, 18, 2, 27, 32, 20, 35, 37, 17, 7, 14, 34, 38, 22, 39, 40, 24, 21, 10, 25, 41, 8, 19, 16, 15, 31, 33, 36] \n",
            "\n",
            "\t****Encontrada mejor solucion: 2505 [0, 6, 3, 26, 13, 12, 11, 29, 1, 4, 30, 18, 5, 28, 9, 23, 2, 27, 32, 20, 35, 37, 17, 7, 14, 34, 38, 22, 39, 40, 24, 21, 10, 25, 41, 8, 19, 16, 15, 31, 36, 33] \n",
            "\n",
            "\t****Encontrada mejor solucion: 2486 [0, 6, 3, 26, 13, 12, 11, 29, 1, 4, 30, 18, 5, 28, 9, 23, 2, 27, 32, 20, 35, 37, 17, 14, 7, 34, 38, 22, 39, 40, 24, 21, 10, 25, 41, 8, 19, 16, 15, 31, 36, 33] \n",
            "\n",
            "\t****Encontrada mejor solucion: 2461 [0, 6, 3, 26, 18, 12, 11, 29, 1, 4, 30, 13, 5, 28, 9, 23, 2, 27, 32, 20, 35, 37, 17, 14, 7, 34, 38, 22, 39, 40, 24, 21, 10, 25, 41, 8, 19, 16, 15, 31, 36, 33] \n",
            "\n",
            "\t****Encontrada mejor solucion: 2419 [0, 4, 10, 18, 12, 11, 26, 5, 6, 19, 37, 31, 27, 34, 20, 32, 2, 9, 22, 38, 29, 30, 28, 33, 36, 35, 17, 15, 3, 8, 25, 23, 41, 39, 40, 24, 21, 7, 16, 13, 14, 1] \n",
            "\n",
            "\t****Encontrada mejor solucion: 2402 [0, 36, 27, 18, 12, 11, 26, 5, 13, 19, 15, 28, 2, 8, 9, 23, 25, 29, 22, 39, 38, 20, 32, 34, 33, 35, 31, 17, 37, 7, 1, 4, 30, 41, 40, 24, 21, 10, 14, 16, 3, 6] \n",
            "\n",
            "\t****Encontrada mejor solucion: 2371 [0, 36, 27, 18, 12, 11, 26, 5, 13, 14, 15, 28, 2, 8, 9, 23, 25, 29, 22, 39, 38, 20, 32, 34, 33, 35, 31, 17, 37, 7, 1, 4, 10, 41, 40, 24, 21, 30, 19, 16, 3, 6] \n",
            "\n",
            "\t****Encontrada mejor solucion: 2355 [0, 36, 15, 18, 12, 11, 26, 5, 13, 14, 19, 2, 4, 28, 25, 23, 9, 39, 22, 30, 38, 32, 33, 34, 20, 17, 31, 35, 37, 7, 6, 8, 10, 41, 40, 24, 21, 29, 27, 16, 3, 1] \n",
            "\n",
            "\t****Encontrada mejor solucion: 2280 [0, 37, 15, 18, 11, 12, 26, 5, 19, 14, 7, 1, 27, 28, 25, 23, 9, 30, 22, 21, 38, 20, 33, 34, 32, 17, 31, 35, 36, 13, 6, 8, 10, 41, 40, 24, 39, 29, 4, 2, 3, 16] \n",
            "\n",
            "\t****Encontrada mejor solucion: 2271 [0, 37, 15, 18, 11, 12, 26, 5, 19, 14, 7, 1, 27, 28, 25, 23, 9, 30, 22, 24, 38, 20, 33, 34, 32, 17, 31, 35, 36, 13, 6, 8, 10, 41, 40, 21, 39, 29, 4, 2, 3, 16] \n",
            "\n",
            "\t****Encontrada mejor solucion: 2255 [0, 37, 15, 18, 11, 12, 26, 5, 19, 14, 7, 1, 4, 28, 25, 23, 9, 30, 22, 24, 38, 20, 33, 34, 32, 17, 31, 35, 36, 13, 6, 8, 10, 41, 40, 21, 39, 29, 27, 2, 3, 16] \n",
            "\n",
            "\t****Encontrada mejor solucion: 2211 [0, 37, 15, 16, 11, 12, 26, 5, 19, 14, 7, 1, 4, 28, 25, 23, 9, 30, 22, 24, 38, 20, 33, 34, 32, 17, 31, 35, 36, 13, 6, 8, 10, 41, 40, 21, 39, 29, 27, 2, 3, 18] \n",
            "\n",
            "\t****Encontrada mejor solucion: 2190 [0, 15, 37, 16, 11, 12, 26, 5, 13, 14, 7, 19, 4, 18, 41, 23, 9, 30, 22, 24, 38, 20, 33, 34, 32, 17, 31, 35, 36, 1, 28, 8, 10, 25, 40, 21, 39, 29, 27, 2, 6, 3] \n",
            "\n",
            "\t****Encontrada mejor solucion: 2174 [0, 15, 37, 16, 12, 11, 26, 5, 13, 14, 7, 19, 3, 18, 41, 23, 9, 8, 21, 22, 38, 20, 33, 34, 32, 1, 31, 35, 36, 17, 28, 30, 10, 25, 40, 24, 39, 29, 27, 2, 6, 4] \n",
            "\n",
            "\t****Encontrada mejor solucion: 2173 [0, 15, 37, 19, 12, 11, 26, 5, 13, 14, 7, 16, 1, 18, 41, 23, 9, 8, 21, 22, 38, 20, 33, 34, 32, 3, 31, 35, 36, 17, 28, 30, 10, 25, 40, 24, 39, 29, 27, 2, 6, 4] \n",
            "\n",
            "\t****Encontrada mejor solucion: 2166 [0, 14, 37, 7, 12, 11, 26, 5, 16, 15, 19, 13, 1, 18, 8, 23, 9, 41, 21, 22, 38, 20, 33, 34, 32, 28, 31, 35, 36, 17, 2, 30, 10, 25, 40, 24, 39, 29, 27, 3, 6, 4] \n",
            "\n",
            "\t****Encontrada mejor solucion: 2162 [0, 3, 16, 13, 18, 19, 1, 15, 37, 14, 5, 10, 11, 25, 8, 23, 41, 9, 39, 22, 38, 20, 33, 34, 32, 30, 31, 36, 35, 17, 7, 4, 12, 21, 40, 24, 29, 28, 27, 2, 26, 6] \n",
            "\n",
            "\t****Encontrada mejor solucion: 2142 [0, 3, 16, 1, 18, 19, 13, 15, 37, 14, 5, 10, 11, 25, 8, 23, 41, 9, 39, 22, 38, 20, 33, 34, 32, 30, 31, 36, 35, 17, 7, 4, 12, 21, 40, 24, 29, 28, 27, 2, 26, 6] \n",
            "\n",
            "\t****Encontrada mejor solucion: 2141 [0, 27, 16, 1, 18, 19, 13, 15, 37, 14, 12, 10, 11, 25, 8, 23, 41, 9, 39, 22, 38, 20, 33, 34, 32, 30, 31, 36, 35, 17, 7, 4, 2, 21, 40, 24, 29, 28, 3, 5, 26, 6] \n",
            "\n",
            "\t****Encontrada mejor solucion: 2131 [0, 27, 12, 1, 18, 19, 13, 15, 37, 14, 16, 10, 11, 25, 8, 23, 41, 9, 39, 22, 38, 20, 33, 34, 32, 30, 31, 36, 35, 17, 7, 4, 2, 21, 40, 24, 29, 28, 3, 5, 26, 6] \n",
            "\n",
            "\t****Encontrada mejor solucion: 2110 [0, 27, 12, 1, 6, 19, 13, 15, 37, 14, 16, 10, 11, 25, 8, 23, 41, 9, 39, 22, 38, 20, 33, 34, 32, 30, 31, 36, 35, 17, 7, 4, 2, 21, 40, 24, 29, 28, 3, 5, 26, 18] \n",
            "\n",
            "\t****Encontrada mejor solucion: 2101 [0, 3, 12, 1, 6, 19, 13, 15, 37, 14, 16, 10, 11, 25, 8, 23, 41, 9, 39, 22, 38, 20, 33, 34, 32, 30, 31, 36, 35, 17, 7, 4, 2, 21, 40, 24, 29, 28, 27, 5, 26, 18] \n",
            "\n",
            "\t****Encontrada mejor solucion: 2092 [0, 5, 12, 1, 6, 19, 13, 15, 37, 14, 16, 10, 11, 25, 8, 23, 41, 9, 39, 22, 38, 33, 20, 34, 32, 30, 31, 36, 35, 17, 7, 4, 2, 21, 40, 24, 29, 28, 27, 3, 26, 18] \n",
            "\n",
            "\t****Encontrada mejor solucion: 2081 [0, 3, 12, 1, 6, 19, 13, 15, 37, 14, 16, 10, 11, 25, 8, 23, 41, 9, 39, 22, 38, 33, 20, 34, 32, 30, 31, 36, 35, 17, 7, 27, 2, 21, 40, 24, 29, 28, 4, 5, 26, 18] \n",
            "\n",
            "\t****Encontrada mejor solucion: 2031 [0, 5, 14, 37, 16, 15, 19, 13, 7, 4, 3, 1, 6, 27, 29, 28, 2, 11, 12, 25, 32, 34, 33, 20, 31, 35, 36, 17, 26, 18, 30, 38, 22, 40, 24, 21, 39, 10, 8, 41, 23, 9] \n",
            "\n",
            "\t****Encontrada mejor solucion: 2027 [0, 15, 14, 37, 16, 5, 19, 13, 7, 4, 3, 1, 6, 27, 29, 28, 2, 11, 12, 25, 32, 34, 33, 20, 31, 35, 36, 17, 26, 18, 30, 38, 22, 39, 24, 21, 40, 10, 8, 41, 23, 9] \n",
            "\n",
            "\t****Encontrada mejor solucion: 2022 [0, 16, 14, 37, 15, 5, 19, 13, 7, 4, 3, 1, 6, 27, 29, 28, 2, 11, 12, 25, 32, 34, 33, 20, 31, 35, 36, 17, 26, 18, 30, 38, 22, 39, 24, 21, 40, 10, 8, 41, 23, 9] \n",
            "\n",
            "\t****Encontrada mejor solucion: 2004 [0, 16, 14, 37, 15, 5, 13, 19, 7, 4, 3, 1, 6, 27, 29, 28, 2, 11, 12, 25, 32, 34, 33, 20, 31, 35, 36, 17, 26, 18, 30, 38, 22, 39, 24, 21, 40, 10, 8, 41, 23, 9] \n",
            "\n",
            "\t****Encontrada mejor solucion: 1997 [0, 5, 14, 37, 15, 16, 13, 19, 7, 4, 3, 1, 6, 27, 29, 28, 2, 11, 12, 25, 32, 34, 33, 20, 31, 35, 36, 17, 26, 18, 30, 38, 22, 39, 24, 21, 40, 10, 8, 41, 23, 9] \n",
            "\n",
            "\t****Encontrada mejor solucion: 1968 [0, 18, 19, 14, 16, 15, 37, 1, 3, 2, 6, 26, 4, 10, 12, 11, 13, 5, 7, 28, 30, 27, 20, 34, 33, 35, 36, 31, 17, 32, 29, 38, 22, 24, 40, 21, 39, 23, 25, 41, 9, 8] \n",
            "\n",
            "\t****Encontrada mejor solucion: 1965 [0, 18, 19, 14, 16, 15, 37, 1, 3, 2, 6, 26, 4, 10, 11, 12, 13, 5, 7, 28, 30, 27, 20, 34, 33, 35, 36, 31, 17, 32, 29, 38, 22, 24, 40, 21, 39, 23, 25, 41, 9, 8] \n",
            "\n",
            "\t****Encontrada mejor solucion: 1963 [0, 28, 2, 27, 18, 12, 11, 13, 26, 5, 19, 16, 14, 1, 6, 3, 4, 25, 10, 41, 20, 31, 7, 15, 37, 17, 36, 35, 33, 34, 32, 38, 22, 8, 9, 23, 39, 21, 40, 24, 29, 30] \n",
            "\n",
            "\t****Encontrada mejor solucion: 1949 [0, 28, 2, 27, 18, 12, 11, 5, 26, 13, 19, 16, 14, 1, 6, 3, 4, 25, 10, 41, 20, 31, 7, 15, 37, 17, 36, 35, 33, 34, 32, 38, 22, 8, 9, 23, 39, 21, 40, 24, 29, 30] \n",
            "\n",
            "\t****Encontrada mejor solucion: 1946 [0, 28, 2, 27, 18, 12, 11, 5, 26, 13, 19, 16, 14, 1, 6, 3, 4, 25, 10, 41, 20, 31, 7, 15, 37, 17, 36, 35, 33, 34, 32, 38, 22, 9, 8, 23, 39, 21, 40, 24, 29, 30] \n",
            "\n",
            "\t****Encontrada mejor solucion: 1888 [0, 28, 2, 27, 18, 12, 11, 5, 26, 13, 19, 16, 14, 1, 6, 3, 4, 25, 10, 41, 32, 31, 7, 15, 37, 17, 36, 35, 33, 34, 20, 38, 22, 9, 8, 23, 39, 21, 40, 24, 29, 30] \n",
            "\n",
            "\t****Encontrada mejor solucion: 1839 [0, 4, 2, 28, 11, 12, 18, 5, 26, 13, 19, 16, 14, 1, 6, 27, 3, 25, 10, 41, 32, 31, 7, 15, 37, 17, 36, 35, 33, 20, 34, 38, 22, 39, 9, 40, 24, 21, 23, 8, 29, 30] \n",
            "\n",
            "\t****Encontrada mejor solucion: 1835 [0, 4, 2, 28, 11, 12, 18, 5, 26, 13, 19, 16, 14, 6, 1, 27, 3, 25, 10, 41, 32, 31, 7, 15, 37, 17, 36, 35, 33, 20, 34, 38, 22, 39, 9, 40, 24, 21, 23, 8, 29, 30] \n",
            "\n",
            "\t****Encontrada mejor solucion: 1830 [0, 4, 2, 28, 11, 12, 18, 5, 26, 13, 19, 16, 14, 6, 1, 27, 3, 25, 10, 41, 32, 31, 7, 15, 37, 17, 36, 35, 33, 20, 34, 38, 22, 39, 23, 40, 24, 21, 9, 8, 29, 30] \n",
            "\n",
            "\t****Encontrada mejor solucion: 1820 [0, 4, 28, 2, 3, 12, 18, 26, 5, 13, 19, 16, 14, 6, 1, 27, 11, 25, 10, 41, 32, 31, 7, 15, 37, 17, 36, 35, 33, 20, 34, 38, 22, 39, 23, 40, 24, 21, 9, 8, 29, 30] \n",
            "\n",
            "\t****Encontrada mejor solucion: 1808 [0, 4, 28, 2, 3, 12, 18, 26, 5, 13, 19, 16, 14, 6, 1, 27, 11, 25, 10, 41, 32, 31, 7, 15, 37, 17, 36, 35, 20, 33, 34, 38, 22, 39, 23, 40, 24, 21, 9, 8, 29, 30] \n",
            "\n",
            "\t****Encontrada mejor solucion: 1767 [0, 27, 28, 2, 3, 12, 18, 26, 5, 13, 19, 16, 14, 6, 1, 4, 11, 25, 10, 41, 32, 31, 7, 15, 37, 17, 36, 35, 20, 33, 34, 38, 22, 39, 23, 40, 24, 21, 9, 8, 29, 30] \n",
            "\n",
            "\t****Encontrada mejor solucion: 1751 [0, 3, 2, 27, 28, 29, 18, 5, 4, 6, 16, 14, 15, 19, 13, 11, 25, 8, 10, 12, 26, 1, 17, 31, 37, 7, 36, 35, 20, 33, 34, 38, 22, 39, 24, 40, 21, 23, 41, 9, 30, 32] \n",
            "\n",
            "\t****Encontrada mejor solucion: 1732 [0, 32, 28, 2, 27, 29, 26, 5, 4, 1, 16, 14, 15, 19, 13, 11, 25, 8, 10, 12, 18, 6, 37, 7, 17, 31, 36, 35, 20, 33, 34, 38, 22, 39, 24, 40, 21, 23, 41, 9, 30, 3] \n",
            "\n",
            "\t****Encontrada mejor solucion: 1715 [0, 32, 27, 2, 28, 29, 26, 5, 4, 1, 16, 14, 15, 19, 13, 11, 25, 8, 10, 12, 18, 6, 37, 7, 17, 31, 36, 35, 20, 33, 34, 38, 22, 39, 24, 40, 21, 23, 41, 9, 30, 3] \n",
            "\n",
            "\t****Encontrada mejor solucion: 1681 [0, 32, 27, 2, 28, 29, 26, 5, 4, 37, 16, 14, 15, 19, 13, 11, 25, 8, 10, 12, 18, 6, 1, 7, 17, 31, 36, 35, 20, 33, 34, 38, 22, 39, 24, 40, 21, 23, 41, 9, 30, 3] \n",
            "\n",
            "\t****Encontrada mejor solucion: 1670 [0, 32, 27, 2, 28, 30, 26, 5, 4, 37, 16, 14, 15, 19, 13, 11, 25, 8, 10, 12, 18, 6, 1, 7, 17, 31, 36, 35, 20, 33, 34, 38, 22, 39, 24, 40, 21, 23, 41, 9, 29, 3] \n",
            "\n",
            "\t****Encontrada mejor solucion: 1664 [0, 3, 27, 2, 28, 30, 18, 26, 4, 37, 16, 14, 15, 19, 13, 11, 25, 8, 10, 12, 5, 6, 1, 7, 17, 31, 36, 35, 20, 33, 34, 38, 22, 39, 24, 40, 21, 23, 41, 9, 29, 32] \n",
            "\n",
            "\t****Encontrada mejor solucion: 1661 [0, 3, 27, 2, 28, 30, 5, 26, 1, 37, 16, 14, 15, 19, 13, 11, 25, 8, 10, 12, 18, 6, 4, 7, 17, 31, 36, 35, 20, 33, 34, 38, 22, 39, 24, 40, 21, 23, 41, 9, 29, 32] \n",
            "\n",
            "\t****Encontrada mejor solucion: 1620 [0, 2, 30, 32, 28, 27, 4, 1, 6, 37, 16, 14, 15, 19, 13, 11, 25, 8, 10, 12, 18, 26, 5, 7, 17, 31, 36, 35, 20, 33, 34, 38, 22, 39, 24, 40, 21, 23, 41, 9, 29, 3] \n",
            "\n",
            "\t****Encontrada mejor solucion: 1618 [0, 2, 30, 32, 28, 27, 4, 1, 6, 14, 16, 37, 15, 19, 13, 11, 25, 8, 10, 12, 18, 26, 5, 7, 17, 31, 36, 35, 20, 33, 34, 38, 22, 39, 24, 40, 21, 23, 41, 9, 29, 3] \n",
            "\n",
            "\t****Encontrada mejor solucion: 1614 [0, 2, 30, 32, 28, 27, 4, 1, 6, 14, 15, 37, 16, 19, 13, 11, 25, 8, 10, 12, 18, 26, 5, 7, 17, 31, 36, 35, 20, 33, 34, 38, 22, 39, 24, 40, 21, 23, 41, 9, 29, 3] \n",
            "\n",
            "\t****Encontrada mejor solucion: 1612 [0, 2, 30, 32, 28, 3, 4, 1, 6, 14, 15, 37, 16, 19, 13, 11, 25, 8, 10, 12, 18, 26, 5, 7, 17, 31, 36, 35, 20, 33, 34, 38, 22, 39, 24, 40, 21, 23, 41, 9, 29, 27] \n",
            "\n",
            "\t****Encontrada mejor solucion: 1596 [0, 2, 30, 32, 27, 4, 3, 1, 6, 14, 15, 37, 16, 19, 13, 11, 25, 8, 10, 12, 18, 26, 5, 7, 17, 31, 36, 35, 20, 33, 34, 38, 22, 39, 24, 40, 21, 23, 41, 9, 29, 28] \n",
            "\n",
            "\t****Encontrada mejor solucion: 1584 [0, 2, 30, 32, 27, 4, 3, 1, 6, 37, 15, 14, 16, 19, 13, 11, 25, 8, 10, 12, 18, 26, 5, 7, 17, 31, 36, 35, 20, 33, 34, 38, 22, 39, 24, 40, 21, 23, 41, 9, 29, 28] \n",
            "\n",
            "\t****Encontrada mejor solucion: 1570 [0, 32, 30, 2, 3, 4, 27, 1, 6, 37, 15, 14, 16, 19, 13, 11, 25, 8, 10, 12, 18, 26, 5, 7, 17, 31, 36, 35, 20, 33, 34, 38, 22, 39, 24, 40, 21, 23, 41, 9, 29, 28] \n",
            "\n",
            "\t****Encontrada mejor solucion: 1556 [0, 32, 30, 2, 3, 4, 27, 1, 7, 37, 15, 14, 16, 19, 13, 11, 25, 8, 10, 12, 18, 26, 5, 6, 17, 31, 36, 35, 20, 33, 34, 38, 22, 39, 24, 40, 21, 23, 41, 9, 29, 28] \n",
            "\n",
            "\t****Encontrada mejor solucion: 1541 [0, 32, 28, 2, 3, 4, 27, 1, 7, 37, 15, 14, 16, 19, 13, 11, 25, 8, 10, 12, 18, 26, 5, 6, 17, 31, 36, 35, 20, 33, 34, 38, 22, 39, 24, 40, 21, 23, 41, 9, 29, 30] \n",
            "\n",
            "\t****Encontrada mejor solucion: 1524 [0, 32, 28, 2, 27, 4, 3, 1, 7, 37, 15, 14, 16, 19, 13, 11, 25, 8, 10, 12, 18, 26, 5, 6, 17, 31, 36, 35, 20, 33, 34, 38, 22, 39, 24, 40, 21, 23, 41, 9, 29, 30] \n",
            "\n",
            "\t****Encontrada mejor solucion: 1520 [0, 32, 28, 2, 27, 4, 3, 1, 7, 37, 15, 16, 14, 19, 13, 11, 25, 8, 10, 12, 18, 26, 5, 6, 17, 31, 36, 35, 20, 33, 34, 38, 22, 39, 24, 40, 21, 23, 41, 9, 29, 30] \n",
            "\n",
            "\t****Encontrada mejor solucion: 1493 [0, 32, 28, 27, 2, 3, 4, 1, 6, 19, 13, 5, 26, 18, 12, 11, 25, 10, 8, 7, 14, 16, 15, 37, 17, 31, 36, 35, 20, 33, 34, 38, 22, 39, 24, 40, 21, 9, 23, 41, 29, 30] \n",
            "\n",
            "\t****Encontrada mejor solucion: 1491 [0, 32, 28, 27, 2, 3, 4, 1, 6, 5, 19, 13, 26, 18, 12, 11, 25, 10, 8, 7, 14, 16, 15, 37, 17, 31, 36, 35, 20, 33, 34, 38, 22, 39, 24, 40, 21, 9, 23, 41, 29, 30] \n",
            "\n",
            "\t****Encontrada mejor solucion: 1487 [0, 32, 28, 2, 27, 3, 4, 1, 6, 19, 13, 5, 26, 18, 12, 11, 25, 10, 8, 7, 14, 16, 15, 37, 17, 31, 36, 35, 20, 33, 34, 38, 22, 39, 24, 40, 21, 23, 41, 9, 29, 30] \n",
            "\n",
            "La mejor solución encontrada es : 1487 [0, 32, 28, 2, 27, 3, 4, 1, 6, 19, 13, 5, 26, 18, 12, 11, 25, 10, 8, 7, 14, 16, 15, 37, 17, 31, 36, 35, 20, 33, 34, 38, 22, 39, 24, 40, 21, 23, 41, 9, 29, 30]\n"
          ],
          "name": "stdout"
        }
      ]
    },
    {
      "cell_type": "code",
      "metadata": {
        "id": "aTR1gTEwnl8c",
        "colab_type": "code",
        "colab": {
          "base_uri": "https://localhost:8080/",
          "height": 51
        },
        "outputId": "c1e960a9-248b-44a6-98b4-a6462291fcf8"
      },
      "source": [
        "def Add_Nodo(problem, H ,T ) :\n",
        "  #Establecer una una funcion de probabilidad para \n",
        "  # añadir un nuevo nodo dependiendo de los nodos mas cercanos y de las feromonas depositadas\n",
        "  Nodos = list(problem.get_nodes())\n",
        "  return random.choice(   list(set(range(1,len(Nodos))) - set(H) )  )\n",
        "\n",
        "\n",
        "def Incrementa_Feromona(problem, T, H):\n",
        "  #Incrementar segun la calidad de la solución. Añadir una cantidad inversamente proporcional a la distancia total \n",
        "  for i in range(len(H)-1):\n",
        "    T[H[i]][H[i+1]] += 1000/distancia_total(H, problem)\n",
        "  return T\n",
        "\n",
        "def Evaporar_Feromonas(T):\n",
        "  #Podemos elegir diferentes funciones de evaporación dependiendo de la cantidad actual y de la suma total de feromonas depositadas,...\n",
        "  #Evapora 0.3 el valor de la feromona, sin que baje de 1\n",
        "  T = [[ max(T[i][j] - 0.3 , 1) for i in range(len(Nodos)) ] for j in range(len(Nodos))]\n",
        "  return T\n",
        "\n",
        "\n",
        "def hormigas(problem, N) :\n",
        "  #problem = datos del problema\n",
        "  #N = Número de agentes(hormigas)\n",
        "    \n",
        "  #Nodos\n",
        "  Nodos = list(problem.get_nodes())\n",
        "    #Aristas\n",
        "  Aristas = list(problem.get_edges()) \n",
        "  \n",
        "  #Inicializa las aristas con una cantidad inicial de feromonas:1\n",
        "  T = [[ 1 for _ in range(len(Nodos)) ] for _ in range(len(Nodos))]\n",
        "  \n",
        "  #Se generan los agentes(hormigas) que serán estructuras de caminos desde 0\n",
        "  Hormiga = [[0] for _ in range(N)]\n",
        "  #Recorre cada agente construyendo la solución\n",
        "  for h in range(N) :\n",
        "    #print(\"\\nAgente:\", h)\n",
        "    #Para cada agente se construye un camino\n",
        "    for i in range(len(Nodos)-1) :\n",
        "      \n",
        "      #Elige el siguiente nodo\n",
        "      Nuevo_Nodo = Add_Nodo(problem, Hormiga[h] ,T )\n",
        "      \n",
        "      Hormiga[h].append(Nuevo_Nodo)     \n",
        "    \n",
        "    #Incrementa feromonas en esa arista \n",
        "    T = Incrementa_Feromona(problem, T, Hormiga[h] )\n",
        "    #print(\"Feromonas(1)\", T)\n",
        "      \n",
        "    #Evapora Feromonas  \n",
        "    T = Evaporar_Feromonas(T)\n",
        "    #print(\"Feromonas(2)\", T)\n",
        "\n",
        "    #Seleccionamos el mejor agente\n",
        "  mejor_solucion = []\n",
        "  mejor_distancia = 10e100\n",
        "  for h in range(N) :\n",
        "    distancia_actual = distancia_total(Hormiga[h], problem)\n",
        "    if distancia_actual < mejor_distancia:\n",
        "      mejor_solucion = Hormiga[h]\n",
        "      mejor_distancia =distancia_actual\n",
        "  \n",
        "  \n",
        "  print(mejor_solucion)\n",
        "  print(mejor_distancia)\n",
        "\n",
        "\n",
        "hormigas(problem,100)"
      ],
      "execution_count": 43,
      "outputs": [
        {
          "output_type": "stream",
          "text": [
            "[0, 40, 12, 4, 9, 19, 25, 24, 30, 28, 38, 31, 29, 6, 15, 11, 18, 10, 23, 27, 32, 20, 8, 39, 21, 22, 33, 3, 37, 16, 34, 1, 5, 2, 17, 35, 7, 26, 36, 14, 41, 13]\n",
            "4139\n"
          ],
          "name": "stdout"
        }
      ]
    }
  ]
}